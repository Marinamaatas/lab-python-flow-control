{
 "cells": [
  {
   "cell_type": "markdown",
   "id": "d3bfc191-8885-42ee-b0a0-bbab867c6f9f",
   "metadata": {
    "tags": []
   },
   "source": [
    "# Lab | Flow Control"
   ]
  },
  {
   "cell_type": "markdown",
   "id": "3851fcd1-cf98-4653-9c89-e003b7ec9400",
   "metadata": {},
   "source": [
    "## Exercise: Managing Customer Orders Optimized\n",
    "\n",
    "In the last lab, you were starting an online store that sells various products. To ensure smooth operations, you developed a program that manages customer orders and inventory.\n",
    "\n",
    "You did so without using flow control. Let's go a step further and improve this code.\n",
    "\n",
    "Follow the steps below to complete the exercise:\n",
    "\n",
    "1. Look at your code from the lab data structures, and improve repeated code with loops.\n",
    "\n",
    "2. Instead of asking the user to input the name of three products that a customer wants to order, do the following:\n",
    "    \n",
    "    a. Prompt the user to enter the name of a product that a customer wants to order.\n",
    "    \n",
    "    b. Add the product name to the \"customer_orders\" set.\n",
    "    \n",
    "    c. Ask the user if they want to add another product (yes/no).\n",
    "    \n",
    "    d. Continue the loop until the user does not want to add another product.\n",
    "\n",
    "3. Instead of updating the inventory by subtracting 1 from the quantity of each product, only do it for  the products that were ordered (those in \"customer_orders\")."
   ]
  },
  {
   "cell_type": "code",
   "execution_count": 7,
   "id": "7a4997f5-7192-45b5-a565-253aac72014d",
   "metadata": {},
   "outputs": [
    {
     "name": "stdin",
     "output_type": "stream",
     "text": [
      "How many t-shirts are in the inventory?  3\n",
      "How many mugs are in the inventory?  3\n",
      "How many hats are in the inventory?  3\n",
      "How many books are in the inventory?  3\n",
      "How many keychains are in the inventory?  3\n"
     ]
    },
    {
     "name": "stdout",
     "output_type": "stream",
     "text": [
      "{'t-shirt': 3, 'mug': 3, 'hat': 3, 'book': 3, 'keychain': 3}\n"
     ]
    },
    {
     "name": "stdin",
     "output_type": "stream",
     "text": [
      "What product do you like (choose from t-shirt, mug, hat, book, keychain, separated by spaces)?  hat\n",
      "Do you want to order another product? (Yes/No)  yes\n",
      "What product do you like (choose from t-shirt, mug, hat, book, keychain, separated by spaces)?  mug\n",
      "Do you want to order another product? (Yes/No)  no\n"
     ]
    },
    {
     "name": "stdout",
     "output_type": "stream",
     "text": [
      "Customer Order: {'hat', 'mug'}\n",
      "Total Products Ordered: 2\n",
      "Percentage of Products Ordered: 13.33%\n",
      "{'t-shirt': 3, 'mug': 2, 'hat': 2, 'book': 3, 'keychain': 3}\n"
     ]
    }
   ],
   "source": [
    "products = [\"t-shirt\", \"mug\", \"hat\", \"book\", \"keychain\"]\n",
    "inventory = {}\n",
    "total_inventory = 0\n",
    "for product in products:\n",
    "    quantity = int(input(f'How many {product}s are in the inventory? '))\n",
    "    inventory[product] = quantity\n",
    "    total_inventory += quantity\n",
    "print(inventory)\n",
    "\n",
    "customer_orders = set()\n",
    "\n",
    "order_input = input('What product do you like (choose from t-shirt, mug, hat, book, keychain, separated by spaces)? ').lower()\n",
    "while True:\n",
    "    for product in order_input.split():\n",
    "        if product in products:\n",
    "            customer_orders.add(product)\n",
    "    another = input('Do you want to order another product? (Yes/No) ').lower()\n",
    "    if another != 'yes':\n",
    "        break\n",
    "    order_input = input('What product do you like (choose from t-shirt, mug, hat, book, keychain, separated by spaces)? ').lower()\n",
    "for product in order_input:\n",
    "    if product in products:  \n",
    "        customer_orders.add(product)\n",
    "print(\"Customer Order:\", customer_orders)\n",
    "\n",
    "total_products_ordered = len(customer_orders)\n",
    "percentage_ordered = (total_products_ordered / total_inventory) * 100\n",
    "order_status = (total_products_ordered, percentage_ordered)\n",
    "\n",
    "print(f\"Total Products Ordered: {order_status[0]}\")\n",
    "print(f\"Percentage of Products Ordered: {order_status[1]:.2f}%\")\n",
    "\n",
    "for product in customer_orders:\n",
    "    if product in inventory and inventory[product] > 0:\n",
    "        inventory[product] -= 1\n",
    "print(inventory)"
   ]
  },
  {
   "cell_type": "code",
   "execution_count": null,
   "id": "2d5192d4-efc8-4b77-97cc-7dbcde7bfa2f",
   "metadata": {},
   "outputs": [],
   "source": []
  }
 ],
 "metadata": {
  "kernelspec": {
   "display_name": "Python 3 (ipykernel)",
   "language": "python",
   "name": "python3"
  },
  "language_info": {
   "codemirror_mode": {
    "name": "ipython",
    "version": 3
   },
   "file_extension": ".py",
   "mimetype": "text/x-python",
   "name": "python",
   "nbconvert_exporter": "python",
   "pygments_lexer": "ipython3",
   "version": "3.12.4"
  }
 },
 "nbformat": 4,
 "nbformat_minor": 5
}
